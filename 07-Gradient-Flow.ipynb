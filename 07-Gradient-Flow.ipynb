{
 "cells": [
  {
   "cell_type": "code",
   "execution_count": 6,
   "metadata": {},
   "outputs": [
    {
     "name": "stdout",
     "output_type": "stream",
     "text": [
      "The autoreload extension is already loaded. To reload it, use:\n",
      "  %reload_ext autoreload\n",
      "Extracting /home/frankzl/datasets/mnist//train-images-idx3-ubyte.gz\n",
      "Extracting /home/frankzl/datasets/mnist//train-labels-idx1-ubyte.gz\n",
      "Extracting /home/frankzl/datasets/mnist//t10k-images-idx3-ubyte.gz\n",
      "Extracting /home/frankzl/datasets/mnist//t10k-labels-idx1-ubyte.gz\n"
     ]
    }
   ],
   "source": [
    "import tensorflow as tf\n",
    "import tools.datasets.mnist3 as mnist_tools\n",
    "import tools.datasets.mnistm as mnistm_tools \n",
    "import tools.semisup as semisup\n",
    "import numpy as np\n",
    "import architectures as arch\n",
    "from functools import partial\n",
    "\n",
    "import tools.visualization as vis\n",
    "import tools.updated_semisup as up\n",
    "\n",
    "%load_ext autoreload\n",
    "%autoreload 2\n",
    "\n",
    "import sys\n",
    "\n",
    "mnist_train_images, mnist_train_labels = mnist_tools.get_data('train')\n",
    "mnist_test_images, mnist_test_labels = mnist_tools.get_data('test')\n",
    "mnistm_train_images, mnistm_train_labels = mnistm_tools.get_data('train')\n",
    "mnistm_test_images, mnistm_test_labels = mnistm_tools.get_data('test')"
   ]
  },
  {
   "cell_type": "code",
   "execution_count": 30,
   "metadata": {},
   "outputs": [],
   "source": [
    "# labeled samples used per class\n",
    "# sup_per_class = 10\n",
    "sup_per_class = 1280\n",
    "sup_seed = -1\n",
    "# labeled samples per class per batch\n",
    "sup_per_batch = 100\n",
    "# unlabeled samples per batch\n",
    "unsup_batch_size = 1000\n",
    "unsup_samples = -1\n",
    "\n",
    "learning_rate = 1e-4\n",
    "decay_steps = 9000\n",
    "decay_factor = 0.33\n",
    "logit_weight = 1.0\n",
    "\n",
    "max_steps = 2000\n",
    "eval_interval = 500\n",
    "\n",
    "log_dir = \"logs/training/mnist-mnistmK/model\"\n",
    "\n",
    "seed = 1\n",
    "\n",
    "IMAGE_SHAPE = mnist_tools.IMAGE_SHAPE\n",
    "NUM_LABELS = mnist_tools.NUM_LABELS\n",
    "\n",
    "# [10 (classes), 10 (samples), 28, 28, 1]\n",
    "sup_by_label = semisup.sample_by_label(mnist_train_images, mnist_train_labels,\n",
    "                        sup_per_class, NUM_LABELS, seed)\n",
    "\n",
    "visit_weight_envelope = \"linear\"\n",
    "visit_weight = 2\n",
    "visit_weight_envelope_steps = 1\n",
    "visit_weight_envelope_delay = 500\n",
    "\n",
    "walker_weight_envelope = \"linear\"\n",
    "walker_weight = 10\n",
    "walker_weight_envelope_steps = 1\n",
    "walker_weight_envelope_delay = 500\n",
    "\n",
    "TARGET_SHAPE = mnistm_tools.IMAGE_SHAPE\n",
    "TEST_SHAPE   = TARGET_SHAPE\n",
    "\n",
    "image_shape = IMAGE_SHAPE\n",
    "new_shape   = TARGET_SHAPE\n",
    "emb_size    = 128\n",
    "\n",
    "sampled_unsup_images = mnistm_train_images\n",
    "sampled_unsup_labels = mnistm_train_labels"
   ]
  },
  {
   "cell_type": "code",
   "execution_count": 31,
   "metadata": {},
   "outputs": [],
   "source": [
    "store_dir = \"logs/training/mnist-mnistK-s40/model\""
   ]
  },
  {
   "cell_type": "code",
   "execution_count": 32,
   "metadata": {},
   "outputs": [
    {
     "name": "stdout",
     "output_type": "stream",
     "text": [
      "---------\n",
      "Variables: name (type shape) [size]\n",
      "---------\n",
      "net/conv1/weights:0 (float32_ref 3x3x3x32) [864, bytes: 3456]\n",
      "net/conv1/biases:0 (float32_ref 32) [32, bytes: 128]\n",
      "net/conv1_2/weights:0 (float32_ref 3x3x32x32) [9216, bytes: 36864]\n",
      "net/conv1_2/biases:0 (float32_ref 32) [32, bytes: 128]\n",
      "net/conv1_3/weights:0 (float32_ref 3x3x32x32) [9216, bytes: 36864]\n",
      "net/conv1_3/biases:0 (float32_ref 32) [32, bytes: 128]\n",
      "net/conv2_1/weights:0 (float32_ref 3x3x32x64) [18432, bytes: 73728]\n",
      "net/conv2_1/biases:0 (float32_ref 64) [64, bytes: 256]\n",
      "net/conv2_2/weights:0 (float32_ref 3x3x64x64) [36864, bytes: 147456]\n",
      "net/conv2_2/biases:0 (float32_ref 64) [64, bytes: 256]\n",
      "net/conv2_3/weights:0 (float32_ref 3x3x64x64) [36864, bytes: 147456]\n",
      "net/conv2_3/biases:0 (float32_ref 64) [64, bytes: 256]\n",
      "net/conv3/weights:0 (float32_ref 3x3x64x128) [73728, bytes: 294912]\n",
      "net/conv3/biases:0 (float32_ref 128) [128, bytes: 512]\n",
      "net/conv3_2/weights:0 (float32_ref 3x3x128x128) [147456, bytes: 589824]\n",
      "net/conv3_2/biases:0 (float32_ref 128) [128, bytes: 512]\n",
      "net/conv3_3/weights:0 (float32_ref 3x3x128x128) [147456, bytes: 589824]\n",
      "net/conv3_3/biases:0 (float32_ref 128) [128, bytes: 512]\n",
      "net/fc1/weights:0 (float32_ref 1152x128) [147456, bytes: 589824]\n",
      "net/fc1/biases:0 (float32_ref 128) [128, bytes: 512]\n",
      "net/fully_connected/weights:0 (float32_ref 128x10) [1280, bytes: 5120]\n",
      "net/fully_connected/biases:0 (float32_ref 10) [10, bytes: 40]\n",
      "Total size of variables: 629642\n",
      "Total bytes of variables: 2518568\n"
     ]
    }
   ],
   "source": [
    "from ipywidgets import IntProgress, Layout\n",
    "from train import apply_envelope\n",
    "\n",
    "graph = tf.Graph()\n",
    "\n",
    "with graph.as_default():\n",
    "    \n",
    "    unsup_data = up.create_input(sampled_unsup_images, sampled_unsup_labels, unsup_batch_size)\n",
    "    unsup_it   = unsup_data.make_initializable_iterator()\n",
    "    \n",
    "    t_unsup_images,t_unsup_labels = unsup_it.get_next()\n",
    "    \n",
    "    sup_data,sup_label = up.create_per_class_inputs_v2(sup_by_label, sup_per_batch)\n",
    "    sup_it             = sup_data.repeat().make_one_shot_iterator()\n",
    "    sup_it_label       = sup_label.repeat().make_one_shot_iterator()\n",
    "    \n",
    "    # Apply augmentation\n",
    "    def _random_invert(inputs, _):\n",
    "        randu = tf.random_uniform(\n",
    "            shape=[sup_per_batch * NUM_LABELS], minval=0.,\n",
    "            maxval=1.,\n",
    "            dtype=tf.float32)\n",
    "        randu = tf.cast(tf.less(randu, 0.5), tf.float32)\n",
    "        randu = tf.expand_dims(randu, 1)\n",
    "        randu = tf.expand_dims(randu, 1)\n",
    "        randu = tf.expand_dims(randu, 1)\n",
    "        inputs = tf.cast(inputs, tf.float32)\n",
    "        return tf.abs(inputs - 255 * randu)\n",
    "\n",
    "    augmentation_function = _random_invert\n",
    "    \n",
    "    model_func = partial(\n",
    "        arch.svhn_model,\n",
    "        new_shape=new_shape,\n",
    "        augmentation_function=augmentation_function,\n",
    "        img_shape=image_shape,\n",
    "        emb_size=emb_size\n",
    "    )\n",
    "    \n",
    "    model = semisup.SemisupModel(model_func, NUM_LABELS, IMAGE_SHAPE,\n",
    "                                 test_in=tf.placeholder(np.float32, [None] + TEST_SHAPE, 'test_in')\n",
    "                                )\n",
    "    \n",
    "    t_sup_images, t_sup_labels = tf.concat( sup_it.get_next(), 0), tf.concat( sup_it_label.get_next(), 0)\n",
    "    \n",
    "    t_sup_emb   = model.image_to_embedding(t_sup_images)\n",
    "    t_unsup_emb = model.image_to_embedding(t_unsup_images)\n",
    "    \n",
    "    t_sup_logit = model.embedding_to_logit(t_sup_emb)\n",
    "    \n",
    "    visit_weight = apply_envelope(\n",
    "        type = visit_weight_envelope,\n",
    "        step = model.step,\n",
    "        final_weight = visit_weight,\n",
    "        growing_steps = visit_weight_envelope_steps,\n",
    "        delay = visit_weight_envelope_delay\n",
    "    )\n",
    "    \n",
    "    walker_weight = apply_envelope(\n",
    "        type = walker_weight_envelope,\n",
    "        step = model.step,\n",
    "        final_weight = walker_weight,\n",
    "        growing_steps = walker_weight_envelope_steps,\n",
    "        delay = walker_weight_envelope_delay\n",
    "    )\n",
    "    \n",
    "    tf.summary.scalar(\"Weights_Visit\", visit_weight)\n",
    "    tf.summary.scalar(\"Weight_Walker\", walker_weight)\n",
    "    \n",
    "    model.add_logit_loss(t_sup_logit, t_sup_labels, weight=logit_weight)\n",
    "    \n",
    "    #model.add_semisup_loss(t_sup_emb, t_unsup_emb, t_sup_labels, visit_weight=visit_weight, walker_weight=walker_weight)\n",
    "    equality_matrix = tf.equal(tf.reshape(t_sup_labels, [-1, 1]), t_sup_labels)\n",
    "    equality_matrix = tf.cast(equality_matrix, tf.float32)\n",
    "    p_target = (equality_matrix / tf.reduce_sum(\n",
    "        equality_matrix, [1], keepdims=True))\n",
    "\n",
    "    embedding_dim = t_sup_emb.shape[1]\n",
    "    reshaped_semb = tf.reshape( t_sup_emb, [-1, 1, embedding_dim] )\n",
    "    reshaped_uemb = tf.reshape( t_unsup_emb, [-1, 1, embedding_dim] )\n",
    "    \n",
    "    stacked_semb = tf.stack(unsup_batch_size*[t_sup_emb], 1)\n",
    "    stacked_uemb = tf.stack(sup_per_batch*NUM_LABELS*[t_unsup_emb], 1)\n",
    "    \n",
    "    uemb_T = tf.transpose(stacked_uemb, perm=[1,0,2])\n",
    "     \n",
    "    sigma = 1e-5\n",
    "    pairwise_dist = (stacked_semb - uemb_T)#, axis=2)\n",
    "    pairwise_norm = tf.norm( pairwise_dist, axis=2)\n",
    "    pairwise_sq   = tf.square(pairwise_norm)\n",
    "    \n",
    "    pairwise_sq2  = tf.reduce_sum( tf.math.square(pairwise_dist), axis=2)\n",
    "    \n",
    "    match_ab   = tf.exp(- tf.divide( pairwise_sq, tf.constant(2*sigma**2, dtype=tf.float32)), name='match_ab')\n",
    "    \n",
    "    p_ab = tf.nn.softmax(match_ab, name='p_ab')\n",
    "    p_ba = tf.nn.softmax(tf.transpose(match_ab), name='p_ba')\n",
    "    p_aba = tf.matmul(p_ab, p_ba, name='p_aba')\n",
    "\n",
    "    model.create_walk_statistics(p_aba, equality_matrix)\n",
    "    \n",
    "    aba_logits = tf.log(1e-8 + p_aba)\n",
    "    \n",
    "    loss_aba = tf.losses.softmax_cross_entropy(\n",
    "        p_target,\n",
    "        aba_logits,\n",
    "        weights=walker_weight,\n",
    "        scope='loss_aba')\n",
    "    \n",
    "    pairwise_sq_dt, pair_dist_dt, aba_logits_dt, mab_dt, pab_dt, paba_dt, semb_dt, uemb_dt = tf.gradients([loss_aba], [\n",
    "        pairwise_sq, pairwise_dist, aba_logits, match_ab, p_ab, p_aba, t_sup_emb, t_unsup_emb\n",
    "    ])\n",
    "    \n",
    "    sq_dist_dt = tf.gradients([pairwise_sq], pairwise_dist)\n",
    "    \n",
    "    dist2stacked_dt = tf.gradients([pairwise_dist], stacked_semb)\n",
    "    \n",
    "    stacked2semb_dt = tf.gradients([stacked_semb], t_sup_emb)\n",
    "    \n",
    "    model.add_visit_loss(p_ab, visit_weight)\n",
    "\n",
    "    tf.summary.scalar('Loss_aba', loss_aba)\n",
    "    \n",
    "    t_learning_rate = tf.train.exponential_decay(\n",
    "        learning_rate,\n",
    "        model.step,\n",
    "        decay_steps,\n",
    "        decay_factor,\n",
    "        staircase = True\n",
    "    )\n",
    "    \n",
    "    train_op = model.create_train_op(t_learning_rate)\n",
    "    summary_op = tf.summary.merge_all()\n",
    "    \n",
    "    summary_writer = tf.summary.FileWriter(store_dir, graph)\n",
    "    \n",
    "    saver = tf.train.Saver(max_to_keep=30)"
   ]
  },
  {
   "cell_type": "code",
   "execution_count": 35,
   "metadata": {},
   "outputs": [
    {
     "name": "stdout",
     "output_type": "stream",
     "text": [
      "INFO:tensorflow:Restoring parameters from logs/training/mnist-mnistK-s40/model-601\n"
     ]
    }
   ],
   "source": [
    "gradients = dict()\n",
    "vals = dict()\n",
    "\n",
    "with tf.Session(graph=graph) as sess:\n",
    "    saver = tf.train.Saver()\n",
    "    \n",
    "    model_checkpoint = f\"{store_dir}-{601}\"\n",
    "    saver.restore(sess, model_checkpoint)\n",
    "    sess.run(unsup_it.initializer)\n",
    "    \n",
    "    grads = sess.run([\n",
    "        loss_aba, mab_dt, pab_dt, paba_dt, semb_dt, uemb_dt, p_target, p_aba, walker_weight, aba_logits, aba_logits_dt,\n",
    "        pairwise_dist, pair_dist_dt,\n",
    "        pairwise_sq, pairwise_sq_dt, sq_dist_dt,\n",
    "        pairwise_norm,\n",
    "        stacked2semb_dt,\n",
    "        dist2stacked_dt,\n",
    "        t_sup_emb,\n",
    "        t_unsup_emb,\n",
    "        pairwise_sq2\n",
    "    ])\n",
    "    \n",
    "    gradients['match_ab']= grads[1]\n",
    "    gradients['p_ab']     = grads[2]\n",
    "    gradients['p_aba']    = grads[3]\n",
    "    gradients['semb']     = grads[4]\n",
    "    gradients['uemb']     = grads[5]\n",
    "    \n",
    "    vals['loss_aba'] = grads[0]\n",
    "    vals['p_target'] = grads[6]\n",
    "    vals['p_aba']    = grads[7]\n",
    "    vals['walker_weight'] = grads[8]\n",
    "    \n",
    "    vals[\"aba_logits\"]      = grads[9]\n",
    "    gradients[\"aba_logits\"] = grads[10]\n",
    "    \n",
    "    vals[\"pairwise_dist\"] = grads[11]\n",
    "    gradients[\"pairwise_dist\"] = grads[12]\n",
    "    \n",
    "    vals[\"pairwise_sq\"] = grads[13]\n",
    "    gradients[\"pairwise_sq\"] = grads[14]\n",
    "     \n",
    "    gradients[\"sq_dist\"] = grads[15]\n",
    "    \n",
    "    vals[\"pairwise_norm\"] = grads[16]\n",
    "    \n",
    "    gradients[\"stacked2semb\"] = grads[17]\n",
    "    gradients[\"dist2stackedS\"] = grads[18]\n",
    "    \n",
    "    vals[\"semb\"] = grads[19]\n",
    "    vals[\"uemb\"] = grads[20]\n",
    "    \n",
    "    vals[\"pairwise_sq2\"] = grads[21]"
   ]
  },
  {
   "cell_type": "code",
   "execution_count": 36,
   "metadata": {},
   "outputs": [
    {
     "data": {
      "text/plain": [
       "array([[ 3519.0718,  1342.1567, 14928.811 , ...,  5135.53  ,  5346.5854,\n",
       "         1271.8739],\n",
       "       [ 3673.128 ,  5406.7056,  6626.1787, ...,   992.2974,  1609.9436,\n",
       "         2075.165 ],\n",
       "       [ 3005.399 ,  1805.763 , 11927.589 , ...,  2867.021 ,  3495.8071,\n",
       "          451.6533],\n",
       "       ...,\n",
       "       [ 2702.6833,  5840.473 ,  6025.948 , ...,   818.2117,   866.1221,\n",
       "         2524.1934],\n",
       "       [ 3344.1316,  7528.0024,  4692.548 , ...,  1257.3978,   690.1956,\n",
       "         4531.3926],\n",
       "       [ 1841.594 ,  4025.3542,  8257.841 , ...,  1239.259 ,  1070.969 ,\n",
       "         1971.8966]], dtype=float32)"
      ]
     },
     "execution_count": 36,
     "metadata": {},
     "output_type": "execute_result"
    }
   ],
   "source": [
    "import math\n",
    "math.sqrt(sum(vals[\"pairwise_dist\"][0][0]**2))\n",
    "vals[\"pairwise_sq2\"]"
   ]
  },
  {
   "cell_type": "code",
   "execution_count": 37,
   "metadata": {},
   "outputs": [
    {
     "data": {
      "text/plain": [
       "array([[ 3519.072 ,  1342.157 , 14928.812 , ...,  5135.5303,  5346.585 ,\n",
       "         1271.8737],\n",
       "       [ 3673.1282,  5406.7056,  6626.1787, ...,   992.2975,  1609.9434,\n",
       "         2075.1648],\n",
       "       [ 3005.399 ,  1805.7631, 11927.589 , ...,  2867.0208,  3495.8071,\n",
       "          451.6533],\n",
       "       ...,\n",
       "       [ 2702.6833,  5840.473 ,  6025.9487, ...,   818.2116,   866.122 ,\n",
       "         2524.193 ],\n",
       "       [ 3344.1318,  7528.001 ,  4692.548 , ...,  1257.398 ,   690.1958,\n",
       "         4531.3916],\n",
       "       [ 1841.5941,  4025.3547,  8257.842 , ...,  1239.2589,  1070.969 ,\n",
       "         1971.8964]], dtype=float32)"
      ]
     },
     "execution_count": 37,
     "metadata": {},
     "output_type": "execute_result"
    }
   ],
   "source": [
    "#gradients[\"pairwise_norm\"]\n",
    "vals[\"pairwise_sq\"]"
   ]
  },
  {
   "cell_type": "code",
   "execution_count": 77,
   "metadata": {},
   "outputs": [
    {
     "data": {
      "text/plain": [
       "array([[ 1.2608680e-03, -9.4758259e-05, -7.9365193e-05, ...,\n",
       "         2.1124729e-03, -8.0774147e-03, -3.7408539e-03],\n",
       "       [ 1.2750500e-03,  3.8185954e-04,  1.9740070e-04, ...,\n",
       "        -1.2958207e-03, -1.0435975e-02, -4.6270946e-03],\n",
       "       [ 1.2559926e-03, -2.5036914e-04, -1.4070475e-04, ...,\n",
       "         3.3429782e-03, -7.3189735e-03, -3.4752055e-03],\n",
       "       ...,\n",
       "       [-1.0515973e-03, -6.4302160e-04, -4.4731610e-04, ...,\n",
       "         2.8800098e-03,  9.8607130e-03,  3.6174187e-03],\n",
       "       [-9.9682028e-04, -6.7967153e-04, -4.7084579e-04, ...,\n",
       "         3.1079925e-03,  9.5073096e-03,  3.4428202e-03],\n",
       "       [-1.1409625e-03,  2.5148529e-06, -2.3093817e-04, ...,\n",
       "        -2.0311570e-03,  8.3224550e-03,  3.1723734e-03]], dtype=float32)"
      ]
     },
     "execution_count": 77,
     "metadata": {},
     "output_type": "execute_result"
    }
   ],
   "source": [
    "gradients[\"match_ab\"] @ vals[\"uemb\"]"
   ]
  },
  {
   "cell_type": "code",
   "execution_count": 78,
   "metadata": {},
   "outputs": [
    {
     "data": {
      "text/plain": [
       "array([[-7.4426732e-12,  8.9154843e-11,  7.5148787e-10, ...,\n",
       "         2.8118805e-10,  6.1333999e-10,  1.4420498e-10],\n",
       "       [-1.1604628e-11,  1.8093443e-10,  8.9424879e-10, ...,\n",
       "         6.0261057e-10,  8.1186569e-10,  1.3070406e-10],\n",
       "       [-1.0948401e-11,  8.1000824e-11,  7.3380496e-10, ...,\n",
       "         2.7191846e-10,  6.1786082e-10,  9.7948073e-11],\n",
       "       ...,\n",
       "       [-1.5348049e-10, -2.6731720e-10, -1.6467978e-10, ...,\n",
       "        -3.8339559e-10, -3.7850056e-11, -1.8944490e-10],\n",
       "       [-9.6358796e-11, -2.0271886e-10, -1.5659625e-10, ...,\n",
       "        -2.5069227e-10, -4.7501274e-11, -2.1152927e-10],\n",
       "       [-5.7780669e-10, -3.9704495e-10,  3.2162096e-11, ...,\n",
       "        -6.0807387e-10,  2.2569593e-10, -1.6839941e-11]], dtype=float32)"
      ]
     },
     "execution_count": 78,
     "metadata": {},
     "output_type": "execute_result"
    }
   ],
   "source": [
    "gradients[\"pairwise_sq\"]"
   ]
  },
  {
   "cell_type": "code",
   "execution_count": 85,
   "metadata": {},
   "outputs": [
    {
     "data": {
      "text/plain": [
       "array([[0., 0., 0., ..., 0., 0., 0.],\n",
       "       [0., 0., 0., ..., 0., 0., 0.],\n",
       "       [0., 0., 0., ..., 0., 0., 0.],\n",
       "       ...,\n",
       "       [0., 0., 0., ..., 0., 0., 0.],\n",
       "       [0., 0., 0., ..., 0., 0., 0.],\n",
       "       [0., 0., 0., ..., 0., 0., 0.]], dtype=float32)"
      ]
     },
     "execution_count": 85,
     "metadata": {},
     "output_type": "execute_result"
    }
   ],
   "source": [
    "gradients[\"pairwise_sq\"]"
   ]
  },
  {
   "cell_type": "code",
   "execution_count": 71,
   "metadata": {},
   "outputs": [
    {
     "data": {
      "text/plain": [
       "9.112383596952069e-08"
      ]
     },
     "execution_count": 71,
     "metadata": {},
     "output_type": "execute_result"
    }
   ],
   "source": [
    "sum(gradients[\"pairwise_dist\"][1,:,2])"
   ]
  },
  {
   "cell_type": "code",
   "execution_count": 6,
   "metadata": {},
   "outputs": [
    {
     "data": {
      "text/plain": [
       "68.74567382812499"
      ]
     },
     "execution_count": 6,
     "metadata": {},
     "output_type": "execute_result"
    }
   ],
   "source": [
    "log_p_aba_stacked = np.reshape(np.log(vals[\"p_aba\"]), (-1))\n",
    "p_target_stacked  = np.reshape(vals[\"p_target\"], (-1))\n",
    "\n",
    "- (log_p_aba_stacked @ p_target_stacked) / 1000 * (vals[\"walker_weight\"])"
   ]
  },
  {
   "cell_type": "code",
   "execution_count": 7,
   "metadata": {},
   "outputs": [
    {
     "data": {
      "text/plain": [
       "array([0.01, 0.01, 0.01, ..., 0.01, 0.01, 0.01], dtype=float32)"
      ]
     },
     "execution_count": 7,
     "metadata": {},
     "output_type": "execute_result"
    }
   ],
   "source": [
    "np.reshape(vals[\"p_target\"], (-1))"
   ]
  },
  {
   "cell_type": "code",
   "execution_count": 8,
   "metadata": {},
   "outputs": [
    {
     "data": {
      "text/plain": [
       "array([[-0.08657188, -0.08546703, -0.08133152, ...,  0.0099999 ,\n",
       "         0.0099999 ,  0.0099999 ],\n",
       "       [-0.08740294, -0.08600552, -0.08134026, ...,  0.0099999 ,\n",
       "         0.0099999 ,  0.0099999 ],\n",
       "       [-0.08992981, -0.08795305, -0.08173455, ...,  0.0099999 ,\n",
       "         0.0099999 ,  0.0099999 ],\n",
       "       ...,\n",
       "       [ 0.0099999 ,  0.0099999 ,  0.0099999 , ..., -0.08443051,\n",
       "        -0.08310975, -0.08649029],\n",
       "       [ 0.0099999 ,  0.0099999 ,  0.0099999 , ..., -0.08479327,\n",
       "        -0.08315544, -0.08594633],\n",
       "       [ 0.0099999 ,  0.0099999 ,  0.0099999 , ..., -0.08625133,\n",
       "        -0.08400891, -0.08534323]], dtype=float32)"
      ]
     },
     "execution_count": 8,
     "metadata": {},
     "output_type": "execute_result"
    }
   ],
   "source": [
    "gradients[\"p_aba\"]"
   ]
  },
  {
   "cell_type": "code",
   "execution_count": 9,
   "metadata": {},
   "outputs": [
    {
     "data": {
      "text/plain": [
       "array([[-0.09657271, -0.09546784, -0.09133224, ..., -0.        ,\n",
       "        -0.        , -0.        ],\n",
       "       [-0.09740378, -0.09600634, -0.09134098, ..., -0.        ,\n",
       "        -0.        , -0.        ],\n",
       "       [-0.0999307 , -0.0979539 , -0.09173528, ..., -0.        ,\n",
       "        -0.        , -0.        ],\n",
       "       ...,\n",
       "       [-0.        , -0.        , -0.        , ..., -0.0944313 ,\n",
       "        -0.0931105 , -0.09649111],\n",
       "       [-0.        , -0.        , -0.        , ..., -0.09479406,\n",
       "        -0.0931562 , -0.09594715],\n",
       "       [-0.        , -0.        , -0.        , ..., -0.09625214,\n",
       "        -0.09400968, -0.09534404]], dtype=float32)"
      ]
     },
     "execution_count": 9,
     "metadata": {},
     "output_type": "execute_result"
    }
   ],
   "source": [
    "const = vals[\"walker_weight\"] / 1000\n",
    "const * np.multiply(- 1 / ( vals[\"p_aba\"] ), vals[\"p_target\"])"
   ]
  },
  {
   "cell_type": "code",
   "execution_count": 10,
   "metadata": {},
   "outputs": [
    {
     "data": {
      "text/plain": [
       "array([[-0.08657188, -0.08546703, -0.08133152, ...,  0.0099999 ,\n",
       "         0.0099999 ,  0.0099999 ],\n",
       "       [-0.08740294, -0.08600552, -0.08134026, ...,  0.0099999 ,\n",
       "         0.0099999 ,  0.0099999 ],\n",
       "       [-0.08992981, -0.08795305, -0.08173455, ...,  0.0099999 ,\n",
       "         0.0099999 ,  0.0099999 ],\n",
       "       ...,\n",
       "       [ 0.0099999 ,  0.0099999 ,  0.0099999 , ..., -0.08443051,\n",
       "        -0.08310975, -0.08649029],\n",
       "       [ 0.0099999 ,  0.0099999 ,  0.0099999 , ..., -0.08479327,\n",
       "        -0.08315544, -0.08594633],\n",
       "       [ 0.0099999 ,  0.0099999 ,  0.0099999 , ..., -0.08625133,\n",
       "        -0.08400891, -0.08534323]], dtype=float32)"
      ]
     },
     "execution_count": 10,
     "metadata": {},
     "output_type": "execute_result"
    }
   ],
   "source": [
    "gradients[\"p_aba\"]"
   ]
  },
  {
   "cell_type": "code",
   "execution_count": 11,
   "metadata": {},
   "outputs": [
    {
     "data": {
      "text/plain": [
       "array([[-0.08657271, -0.08546785, -0.08133226, ...,  0.01      ,\n",
       "         0.01      ,  0.01      ],\n",
       "       [-0.0874038 , -0.08600635, -0.08134101, ...,  0.01      ,\n",
       "         0.01      ,  0.01      ],\n",
       "       [-0.08993071, -0.08795391, -0.08173531, ...,  0.01      ,\n",
       "         0.01      ,  0.01      ],\n",
       "       ...,\n",
       "       [ 0.01000001,  0.01000001,  0.01      , ..., -0.08443131,\n",
       "        -0.08311053, -0.08649112],\n",
       "       [ 0.01000001,  0.01      ,  0.01      , ..., -0.08479407,\n",
       "        -0.08315621, -0.08594716],\n",
       "       [ 0.01      ,  0.01      ,  0.00999999, ..., -0.08625216,\n",
       "        -0.08400971, -0.08534405]], dtype=float32)"
      ]
     },
     "execution_count": 11,
     "metadata": {},
     "output_type": "execute_result"
    }
   ],
   "source": [
    "gradients[\"aba_logits\"]/vals[\"p_aba\"]"
   ]
  },
  {
   "cell_type": "code",
   "execution_count": 17,
   "metadata": {},
   "outputs": [],
   "source": [
    "match_ab_2_pairwise_sq = -1/(2*sigma**2) * np.exp(- vals[\"pairwise_sq\"] / (2*sigma**2))\n",
    "#match_ab_2_pairwise_sq.shape\n",
    "\n",
    "#(2*vals[\"pairwise_dist\"])[0][1] * match_ab_2_pairwise_sq[0][1] * gradients[\"match_ab\"][0][1]\n",
    "#vals[\"pairwise_dist\"]"
   ]
  },
  {
   "cell_type": "code",
   "execution_count": 13,
   "metadata": {},
   "outputs": [
    {
     "data": {
      "text/plain": [
       "array([[[-2.66727002e-10,  1.96900454e-10, -4.28885683e-09, ...,\n",
       "         -5.99663386e-09, -7.19780191e-09, -5.40516343e-09],\n",
       "        [ 2.36798137e-10, -2.41063402e-11, -3.63626056e-12, ...,\n",
       "         -1.08808429e-09, -2.88745206e-09, -1.47749224e-09],\n",
       "        [ 3.78062720e-11, -1.22531672e-11, -2.08357680e-12, ...,\n",
       "         -2.59195582e-10, -1.05664100e-09, -6.20679785e-10],\n",
       "        ...,\n",
       "        [ 1.84107226e-11,  3.04349844e-11,  1.84699200e-09, ...,\n",
       "          1.47333357e-09, -2.75637335e-09, -6.41857456e-10],\n",
       "        [ 8.69498267e-13,  4.65918883e-12,  3.01133785e-10, ...,\n",
       "         -5.09152276e-10, -2.37318898e-09, -1.38781864e-09],\n",
       "        [ 1.98792816e-10,  7.31050550e-12,  1.12344037e-10, ...,\n",
       "         -3.06789538e-10, -1.00629227e-09, -2.82724261e-10]],\n",
       "\n",
       "       [[-2.25010469e-10,  1.90128642e-11, -3.64578923e-09, ...,\n",
       "         -6.79054413e-09, -8.13469647e-09, -4.95868813e-09],\n",
       "        [ 3.28399419e-10,  1.78792061e-12, -4.86491489e-12, ...,\n",
       "         -1.10810350e-09, -3.52969876e-09, -1.96476702e-09],\n",
       "        [ 5.41718823e-11, -2.21003836e-12, -2.91468650e-12, ...,\n",
       "         -1.96657746e-10, -1.30939781e-09, -8.54317894e-10],\n",
       "        ...,\n",
       "        [ 2.05513124e-11,  6.61589741e-11,  2.09770978e-09, ...,\n",
       "          2.03406092e-09, -2.70055867e-09, -6.51191712e-10],\n",
       "        [ 8.35106994e-13,  4.12203396e-11,  4.24955626e-10, ...,\n",
       "         -3.22472188e-10, -2.87633362e-09, -1.87238824e-09],\n",
       "        [ 3.05420411e-10,  3.81314633e-11,  1.72914655e-10, ...,\n",
       "         -1.64707178e-10, -1.18186738e-09, -3.68646280e-10]],\n",
       "\n",
       "       [[-1.07958469e-10,  5.39368758e-11, -1.52152124e-09, ...,\n",
       "         -2.96159008e-09, -6.07848305e-09, -5.02626119e-09],\n",
       "        [ 7.22790161e-10, -4.31767087e-11, -3.17053800e-10, ...,\n",
       "         -2.88769253e-09, -5.65248914e-09, -1.63274461e-09],\n",
       "        [ 1.21557903e-10, -2.62198631e-11, -1.44316323e-10, ...,\n",
       "         -6.43494480e-10, -2.01118122e-09, -7.24797888e-10],\n",
       "        ...,\n",
       "        [ 3.02950026e-11,  7.53574911e-11,  3.15945736e-09, ...,\n",
       "          2.97397817e-09, -2.92346591e-09,  7.17647775e-10],\n",
       "        [-2.15639550e-12,  4.61524846e-11,  6.57193189e-10, ...,\n",
       "         -1.17292265e-09, -4.36115588e-09, -1.51616109e-09],\n",
       "        [ 6.82973511e-10,  4.91746227e-11,  1.51357218e-10, ...,\n",
       "         -7.06889103e-10, -9.83515602e-10,  1.27382871e-09]],\n",
       "\n",
       "       ...,\n",
       "\n",
       "       [[-6.57973190e-11, -9.00237940e-11,  9.36582478e-11, ...,\n",
       "          7.56884944e-10,  2.53330135e-09,  1.31211297e-09],\n",
       "        [-2.64567035e-10,  4.15827567e-10,  1.38654543e-09, ...,\n",
       "          2.11785212e-09, -5.84284288e-10,  3.57255558e-10],\n",
       "        [-8.94401914e-11, -2.32765210e-10, -7.52216067e-10, ...,\n",
       "         -3.97160055e-10,  9.21931698e-10, -1.82835594e-10],\n",
       "        ...,\n",
       "        [ 8.08406897e-10,  5.65436920e-10, -7.58873586e-09, ...,\n",
       "         -1.06685318e-08, -3.57128260e-09, -4.80616613e-09],\n",
       "        [ 1.32634057e-10,  1.03575988e-10,  1.45902818e-10, ...,\n",
       "          1.49256829e-10, -5.78767645e-10,  7.26733188e-11],\n",
       "        [-6.65338173e-10,  5.02608011e-10,  1.43773471e-09, ...,\n",
       "          3.86156884e-10, -7.59022534e-09, -4.40913972e-09]],\n",
       "\n",
       "       [[-1.61598859e-10, -2.32957570e-10,  2.38374376e-10, ...,\n",
       "          1.04060061e-09,  4.14687440e-09,  2.15327489e-09],\n",
       "        [-9.89784296e-11,  5.40487377e-10,  9.62309787e-10, ...,\n",
       "          2.30509589e-09, -2.47432463e-10,  4.08631434e-10],\n",
       "        [-1.58034585e-10, -3.37017914e-10, -5.88947502e-10, ...,\n",
       "         -7.03069547e-10,  7.19853455e-10, -2.39455206e-10],\n",
       "        ...,\n",
       "        [ 1.27221211e-09,  1.20853583e-09, -9.18041199e-09, ...,\n",
       "         -1.05379518e-08, -3.35817019e-09, -5.13447551e-09],\n",
       "        [ 1.13786376e-10,  1.12668964e-10,  4.70282424e-11, ...,\n",
       "          2.24997784e-10, -3.12262244e-10,  7.30268970e-11],\n",
       "        [-4.84469520e-10,  9.80639903e-10,  1.19687882e-09, ...,\n",
       "          1.59633917e-09, -7.99010458e-09, -4.70139527e-09]],\n",
       "\n",
       "       [[-1.10165745e-10, -2.58774713e-09, -3.76252068e-12, ...,\n",
       "          2.23620722e-09,  8.43430303e-09,  4.33881198e-09],\n",
       "        [-3.08998022e-10,  2.67745293e-09,  1.34615508e-09, ...,\n",
       "          1.87056926e-09, -3.44001466e-10,  3.35889316e-10],\n",
       "        [-1.96661784e-12, -9.11790865e-10, -4.57570815e-10, ...,\n",
       "         -2.90789226e-10,  3.94830751e-10, -1.09138761e-10],\n",
       "        ...,\n",
       "        [ 6.05287098e-10,  9.62173097e-09, -8.49809823e-09, ...,\n",
       "         -1.24919177e-08, -4.26848379e-09, -5.88908433e-09],\n",
       "        [ 7.35759925e-11,  9.84538562e-10,  2.53182281e-10, ...,\n",
       "          2.51958232e-10, -4.78810158e-10,  9.20442819e-11],\n",
       "        [-1.28495670e-09,  7.96325139e-09,  3.02673242e-09, ...,\n",
       "          1.51911717e-09, -1.03800479e-08, -5.95154193e-09]]],\n",
       "      dtype=float32)"
      ]
     },
     "execution_count": 13,
     "metadata": {},
     "output_type": "execute_result"
    }
   ],
   "source": [
    "gradients[\"pairwise_dist\"]"
   ]
  },
  {
   "cell_type": "code",
   "execution_count": 14,
   "metadata": {},
   "outputs": [
    {
     "data": {
      "text/plain": [
       "array([[33.663227, 76.14877 , 94.061134, ..., 59.732433, 73.694176,\n",
       "        57.092335],\n",
       "       [36.542786, 70.524574, 88.39573 , ..., 58.41884 , 67.82665 ,\n",
       "        50.66477 ],\n",
       "       [48.075706, 56.29113 , 74.945305, ..., 52.428467, 53.198524,\n",
       "        39.549377],\n",
       "       ...,\n",
       "       [87.80652 , 33.502644, 50.483273, ..., 40.111954, 38.3108  ,\n",
       "        38.151337],\n",
       "       [79.4313  , 34.22532 , 53.838726, ..., 34.96893 , 38.55025 ,\n",
       "        32.585785],\n",
       "       [65.89408 , 43.49854 , 64.952095, ..., 34.15467 , 46.000843,\n",
       "        29.68069 ]], dtype=float32)"
      ]
     },
     "execution_count": 14,
     "metadata": {},
     "output_type": "execute_result"
    }
   ],
   "source": [
    "#gradients[\"pairwise_dist\"]\n",
    "#vals[\"pairwise_dist\"][0][0] @ vals[\"pairwise_dist\"][0][0]\n",
    "vals[\"pairwise_norm\"]"
   ]
  },
  {
   "cell_type": "code",
   "execution_count": 15,
   "metadata": {},
   "outputs": [
    {
     "data": {
      "text/plain": [
       "array([[-2.6265717e-01,  1.9389606e-01, -4.2234154e+00, ...,\n",
       "        -5.9051342e+00, -7.0879745e+00, -5.3226891e+00],\n",
       "       [-1.6026466e+00,  1.6315138e-01,  2.4610162e-02, ...,\n",
       "         7.3641396e+00,  1.9542236e+01,  9.9996471e+00],\n",
       "       [-6.0636270e-01,  1.9652462e-01,  3.3417821e-02, ...,\n",
       "         4.1571550e+00,  1.6947126e+01,  9.9548845e+00],\n",
       "       ...,\n",
       "       [-1.1373246e-01, -1.8801248e-01, -1.1409815e+01, ...,\n",
       "        -9.1015358e+00,  1.7027529e+01,  3.9650822e+00],\n",
       "       [-6.0838461e-03, -3.2600164e-02, -2.1070216e+00, ...,\n",
       "         3.5625191e+00,  1.6605112e+01,  9.7105141e+00],\n",
       "       [-1.9541224e+00, -7.1861863e-02, -1.1043357e+00, ...,\n",
       "         3.0157242e+00,  9.8917971e+00,  2.7791638e+00]], dtype=float32)"
      ]
     },
     "execution_count": 15,
     "metadata": {},
     "output_type": "execute_result"
    }
   ],
   "source": [
    "gradients[\"sq_dist\"][0][0]"
   ]
  },
  {
   "cell_type": "code",
   "execution_count": 5,
   "metadata": {},
   "outputs": [],
   "source": [
    "import matplotlib.pyplot as plt\n",
    "import numpy as np\n",
    "\n",
    "func = lambda x: 1/(-2*x**2) * np.exp(-1/(2*x**2))\n",
    "deriv= lambda x: (-1+2*x**2)/(2*x**5) * np.exp(-1/(2*x**2))\n",
    "\n",
    "import matplotlib\n",
    "matplotlib.rcParams.update({'font.size': 45})"
   ]
  },
  {
   "cell_type": "code",
   "execution_count": 8,
   "metadata": {},
   "outputs": [
    {
     "data": {
      "image/png": "[encoded data removed]",
      "text/plain": [
       "<Figure size 3600x720 with 1 Axes>"
      ]
     },
     "metadata": {
      "needs_background": "light"
     },
     "output_type": "display_data"
    }
   ],
   "source": [
    "x = (np.arange(-5,5,0.02))\n",
    "\n",
    "ax = plt.figure(figsize=(50,10))\n",
    "plt.plot(x, func(x),c=\"b\", label=\"f(sigma)\")\n",
    "plt.plot(x, deriv(x), c=\"r\", label=\"deriv\")\n",
    "\n",
    "plt.plot(x,0*x , c=\"black\")\n",
    "ax = plt.xticks(np.arange(min(x), max(x)+1, .5))\n",
    "plt.legend()\n",
    "plt.show()\n"
   ]
  },
  {
   "cell_type": "code",
   "execution_count": 121,
   "metadata": {},
   "outputs": [
    {
     "data": {
      "image/png": "[encoded data removed]",
      "text/plain": [
       "<Figure size 3600x720 with 1 Axes>"
      ]
     },
     "metadata": {
      "needs_background": "light"
     },
     "output_type": "display_data"
    }
   ],
   "source": [
    "const = 10\n",
    "\n",
    "func = lambda x: 1/(-2*x**2) * np.exp(-const/(2*x**2))\n",
    "deriv= lambda x: (-const+2*x**2)/(2*x**5) * np.exp(-const/(2*x**2))\n",
    "x = (np.arange(-5,5,0.02))\n",
    "\n",
    "ax = plt.figure(figsize=(50,10))\n",
    "plt.plot(x, func(x),c=\"b\", label=\"grad\")\n",
    "plt.plot(x, deriv(x), c=\"r\", label=\"deriv\")\n",
    "\n",
    "plt.plot(x,0*x , c=\"black\")\n",
    "ax = plt.xticks(np.arange(min(x), max(x)+1, .1))\n",
    "plt.legend()\n",
    "plt.show()"
   ]
  },
  {
   "cell_type": "code",
   "execution_count": null,
   "metadata": {},
   "outputs": [],
   "source": []
  }
 ],
 "metadata": {
  "kernelspec": {
   "display_name": "Python 3",
   "language": "python",
   "name": "python3"
  },
  "language_info": {
   "codemirror_mode": {
    "name": "ipython",
    "version": 3
   },
   "file_extension": ".py",
   "mimetype": "text/x-python",
   "name": "python",
   "nbconvert_exporter": "python",
   "pygments_lexer": "ipython3",
   "version": "3.6.7"
  }
 },
 "nbformat": 4,
 "nbformat_minor": 2
}
